{
 "cells": [
  {
   "cell_type": "code",
   "execution_count": 1,
   "metadata": {},
   "outputs": [],
   "source": [
    "ROOT_DIR = \"/home/user/Documents/projects/Metaworld\"\n",
    "\n",
    "import sys\n",
    "sys.path.append(ROOT_DIR)\n",
    "\n",
    "from keyframes.align_ft_spair import dataset\n",
    "import importlib"
   ]
  },
  {
   "cell_type": "code",
   "execution_count": 2,
   "metadata": {},
   "outputs": [
    {
     "data": {
      "text/plain": [
       "<module 'keyframes.align_ft_spair.dataset' from '/home/user/Documents/projects/Metaworld/keyframes/align_ft_spair/dataset.py'>"
      ]
     },
     "execution_count": 2,
     "metadata": {},
     "output_type": "execute_result"
    }
   ],
   "source": [
    "importlib.reload(dataset)"
   ]
  },
  {
   "cell_type": "code",
   "execution_count": 3,
   "metadata": {},
   "outputs": [],
   "source": [
    "spair_dataset = dataset.SPairEmbdDataset(\n",
    "    spair_data_folder=\"/media/user/ssd2t/datasets2/SPair-71k\",\n",
    "    embds_folder_dino=\"/media/user/EXTREMESSD/datasets/SPair-71k/geo\",\n",
    "    embds_folder_sd=\"/media/user/EXTREMESSD/datasets/SPair-71k/DiffusionFeatures60x60\",\n",
    "    img_files_np_path=\"/home/user/Documents/projects/diffusion-features/experiments/ft_align/aeroplane_train_files_unique.npy\",\n",
    "    kpt_indices=[4, 5],\n",
    "    category=\"aeroplane\",\n",
    "    img_size=960,\n",
    "    embd_size=60,\n",
    "    pad=True\n",
    ")"
   ]
  },
  {
   "cell_type": "code",
   "execution_count": 4,
   "metadata": {},
   "outputs": [
    {
     "data": {
      "text/plain": [
       "2304"
      ]
     },
     "execution_count": 4,
     "metadata": {},
     "output_type": "execute_result"
    }
   ],
   "source": [
    "len(spair_dataset)"
   ]
  },
  {
   "cell_type": "code",
   "execution_count": 5,
   "metadata": {},
   "outputs": [
    {
     "data": {
      "text/plain": [
       "torch.Size([2048, 3])"
      ]
     },
     "execution_count": 5,
     "metadata": {},
     "output_type": "execute_result"
    }
   ],
   "source": [
    "spair_dataset[20][0].shape"
   ]
  },
  {
   "cell_type": "code",
   "execution_count": null,
   "metadata": {},
   "outputs": [],
   "source": []
  }
 ],
 "metadata": {
  "kernelspec": {
   "display_name": "kf",
   "language": "python",
   "name": "python3"
  },
  "language_info": {
   "codemirror_mode": {
    "name": "ipython",
    "version": 3
   },
   "file_extension": ".py",
   "mimetype": "text/x-python",
   "name": "python",
   "nbconvert_exporter": "python",
   "pygments_lexer": "ipython3",
   "version": "3.9.0"
  }
 },
 "nbformat": 4,
 "nbformat_minor": 2
}
